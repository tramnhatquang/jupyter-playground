{
 "cells": [
  {
   "metadata": {},
   "cell_type": "markdown",
   "source": [
    "# This is a sample Jupyter Notebook\n",
    "\n",
    "Below is an example of a code cell. \n",
    "Put your cursor into the cell and press Shift+Enter to execute it and select the next one, or click 'Run Cell' button.\n",
    "\n",
    "Press Double Shift to search everywhere for classes, files, tool windows, actions, and settings.\n",
    "\n",
    "To learn more about Jupyter Notebooks in PyCharm, see [help](https://www.jetbrains.com/help/pycharm/ipython-notebook-support.html).\n",
    "For an overview of PyCharm, go to Help -> Learn IDE features or refer to [our documentation](https://www.jetbrains.com/help/pycharm/getting-started.html)."
   ],
   "id": "8a77807f92f26ee"
  },
  {
   "metadata": {
    "ExecuteTime": {
     "end_time": "2024-10-20T23:10:55.734434Z",
     "start_time": "2024-10-20T23:10:55.729885Z"
    }
   },
   "cell_type": "code",
   "source": [
    "# create a dataframe\n",
    "import pandas as pd\n",
    "\n",
    "df = pd.DataFrame({\n",
    "  \"Names\": [\"Jane\", \"John\", \"Matt\", \"Ashley\"],\n",
    "  \"Ages\": [26, 24, 28, 25],\n",
    "  \"Score\": [91.2, 94.1, 89.5, 100]\n",
    "})\n",
    "\n",
    "\n",
    "print(df)\n",
    "\n",
    "# size of DF\n",
    "\n",
    "# size() method contains a number that shows the number of rows multiplied number of cols. Thus, it returns total number of cells in a DataFrame\n",
    "print(\"\\nTry the size() method:\")\n",
    "print(df.size) # 12\n",
    "\n",
    "# shape() method returns a tuple that contains number of rows and number of cols in a DataFrame\n",
    "print(\"\\nTry the shape() method:\")\n",
    "print(df.shape) # (4, 3)\n",
    "\n",
    "\n",
    "# the len() method give sus the number of rows in a DataFrame\n",
    "print(f'\\nNumber of rows: {len(df)}')\n",
    "\n"
   ],
   "id": "fbc121e30a2defb3",
   "outputs": [
    {
     "name": "stdout",
     "output_type": "stream",
     "text": [
      "    Names  Ages  Score\n",
      "0    Jane    26   91.2\n",
      "1    John    24   94.1\n",
      "2    Matt    28   89.5\n",
      "3  Ashley    25  100.0\n",
      "\n",
      "Try the size() method:\n",
      "12\n",
      "\n",
      "Try the shape() method:\n",
      "(4, 3)\n",
      "\n",
      "Number of rows: 4\n"
     ]
    }
   ],
   "execution_count": 11
  },
  {
   "metadata": {},
   "cell_type": "code",
   "outputs": [],
   "execution_count": null,
   "source": "",
   "id": "1984c10550295463"
  }
 ],
 "metadata": {
  "kernelspec": {
   "display_name": "Python 3",
   "language": "python",
   "name": "python3"
  },
  "language_info": {
   "codemirror_mode": {
    "name": "ipython",
    "version": 2
   },
   "file_extension": ".py",
   "mimetype": "text/x-python",
   "name": "python",
   "nbconvert_exporter": "python",
   "pygments_lexer": "ipython2",
   "version": "2.7.6"
  }
 },
 "nbformat": 4,
 "nbformat_minor": 5
}
