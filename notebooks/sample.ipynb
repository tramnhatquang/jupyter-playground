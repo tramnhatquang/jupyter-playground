{
 "cells": [
  {
   "metadata": {},
   "cell_type": "markdown",
   "source": [
    "# This is a sample Jupyter Notebook\n",
    "\n",
    "Below is an example of a code cell. \n",
    "Put your cursor into the cell and press Shift+Enter to execute it and select the next one, or click 'Run Cell' button.\n",
    "\n",
    "Press Double Shift to search everywhere for classes, files, tool windows, actions, and settings.\n",
    "\n",
    "To learn more about Jupyter Notebooks in PyCharm, see [help](https://www.jetbrains.com/help/pycharm/ipython-notebook-support.html).\n",
    "For an overview of PyCharm, go to Help -> Learn IDE features or refer to [our documentation](https://www.jetbrains.com/help/pycharm/getting-started.html)."
   ],
   "id": "8a77807f92f26ee"
  },
  {
   "metadata": {
    "ExecuteTime": {
     "end_time": "2024-10-20T23:26:05.137443Z",
     "start_time": "2024-10-20T23:26:05.132279Z"
    }
   },
   "cell_type": "code",
   "source": [
    "# create a dataframe\n",
    "import pandas as pd\n",
    "\n",
    "\"\"\"\n",
    "SHORT CUTS\n",
    "- Use Control + Enter to run each cell in PyCharm\n",
    "- Use Option + Cmd + L to reformat the whole code\n",
    "\"\"\"\n",
    "\n",
    "df = pd.DataFrame({\n",
    "    \"Names\": [\"Jane\", \"John\", \"Matt\", \"Ashley\"],\n",
    "    \"Ages\": [26, 24, 28, 25],\n",
    "    \"Score\": [91.2, 94.1, 89.5, 100]\n",
    "})\n",
    "\n",
    "print(df)\n",
    "\n",
    "# size of DF\n",
    "\n",
    "# size() method contains a number that shows the number of rows multiplied number of cols. Thus, it returns total number of cells in a DataFrame\n",
    "print(\"\\nTry the size() method:\")\n",
    "print(df.size)  # 12\n",
    "\n",
    "# shape() method returns a tuple that contains number of rows and number of cols in a DataFrame\n",
    "print(\"\\nTry the shape() method:\")\n",
    "print(df.shape)  # (4, 3)\n",
    "\n",
    "# the len() method give sus the number of rows in a DataFrame\n",
    "print(f'\\nNumber of rows: {len(df)}')\n",
    "\n",
    "# check the datatypes\n",
    "print(\"\\nCheck the data types\")\n",
    "print(df.dtypes)"
   ],
   "id": "fbc121e30a2defb3",
   "outputs": [
    {
     "name": "stdout",
     "output_type": "stream",
     "text": [
      "    Names  Ages  Score\n",
      "0    Jane    26   91.2\n",
      "1    John    24   94.1\n",
      "2    Matt    28   89.5\n",
      "3  Ashley    25  100.0\n",
      "\n",
      "Try the size() method:\n",
      "12\n",
      "\n",
      "Try the shape() method:\n",
      "(4, 3)\n",
      "\n",
      "Number of rows: 4\n",
      "\n",
      "Check the data types\n",
      "Names     object\n",
      "Ages       int64\n",
      "Score    float64\n",
      "dtype: object\n"
     ]
    }
   ],
   "execution_count": 14
  },
  {
   "metadata": {},
   "cell_type": "markdown",
   "source": "## Use the sample.csv as test data\n",
   "id": "f650f52516081701"
  },
  {
   "metadata": {
    "ExecuteTime": {
     "end_time": "2024-10-20T23:27:41.205534Z",
     "start_time": "2024-10-20T23:27:41.198299Z"
    }
   },
   "cell_type": "code",
   "source": [
    "import pandas as pd\n",
    "\n",
    "sales = pd.read_csv(\"data/sales.csv\", usecols=[\"product_code\", \"product_group\", \"stock_qty\"])\n",
    "\n",
    "print(sales.head())\n",
    "\n",
    "\"\"\"\n",
    "Checking the number of distinct values in a categorical column is an essential part of exploratory data analysis. The nunique function returns the number of distinct values in a column and the unique function actually shows the unique values. We can apply them to the product group column in the sales.\n",
    "\"\"\"\n",
    "\n",
    "print()\n",
    "print(sales[\"product_group\"].nunique())\n",
    "\n",
    "print()\n",
    "print(sales[\"product_group\"].unique())\n",
    "\n",
    "\n"
   ],
   "id": "1984c10550295463",
   "outputs": [
    {
     "name": "stdout",
     "output_type": "stream",
     "text": [
      "   product_code product_group  stock_qty\n",
      "0          4187           PG2        498\n",
      "1          4195           PG2        473\n",
      "2          4204           PG2        968\n",
      "3          4219           PG2        241\n",
      "4          4718           PG2       1401\n",
      "\n",
      "6\n",
      "\n",
      "['PG2' 'PG4' 'PG6' 'PG5' 'PG3' 'PG1']\n"
     ]
    }
   ],
   "execution_count": 18
  }
 ],
 "metadata": {
  "kernelspec": {
   "display_name": "Python 3",
   "language": "python",
   "name": "python3"
  },
  "language_info": {
   "codemirror_mode": {
    "name": "ipython",
    "version": 2
   },
   "file_extension": ".py",
   "mimetype": "text/x-python",
   "name": "python",
   "nbconvert_exporter": "python",
   "pygments_lexer": "ipython2",
   "version": "2.7.6"
  }
 },
 "nbformat": 4,
 "nbformat_minor": 5
}
